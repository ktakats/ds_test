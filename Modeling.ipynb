{
 "cells": [
  {
   "cell_type": "code",
   "execution_count": 1,
   "metadata": {},
   "outputs": [],
   "source": [
    "import pandas as pd\n",
    "import numpy as np\n",
    "import matplotlib.pyplot as plt\n",
    "%matplotlib inline\n",
    "import seaborn as sns\n",
    "import gc\n",
    "import sklearn\n",
    "import os\n",
    "import warnings\n",
    "warnings.filterwarnings('ignore')\n",
    "import math\n",
    "import shutil\n",
    "from sklearn.model_selection import train_test_split\n",
    "from sklearn.linear_model import LinearRegression\n",
    "from sklearn.metrics import mean_squared_error, mean_absolute_error, max_error\n",
    "from sklearn.preprocessing import OneHotEncoder\n",
    "from sklearn.ensemble import RandomForestRegressor\n",
    "import shap\n",
    "import os"
   ]
  },
  {
   "cell_type": "markdown",
   "metadata": {},
   "source": [
    "## Data transformations, feature creation"
   ]
  },
  {
   "cell_type": "code",
   "execution_count": null,
   "metadata": {},
   "outputs": [],
   "source": [
    "#Download the data if needed\n",
    "#os.chdir('./data')\n",
    "#!wget 'https://s3.amazonaws.com/nyc-tlc/trip+data/yellow_tripdata_2017-03.csv'\n",
    "#!wget 'https://s3.amazonaws.com/nyc-tlc/trip+data/yellow_tripdata_2017-06.csv'\n",
    "#!wget 'https://s3.amazonaws.com/nyc-tlc/trip+data/yellow_tripdata_2017-11.csv'\n",
    "#os.chdir('..')"
   ]
  },
  {
   "cell_type": "code",
   "execution_count": 2,
   "metadata": {},
   "outputs": [],
   "source": [
    "#Select credit card payments only, calculate the total cost of the trip without the tip. \n",
    "def totals(df):\n",
    "    df = df[df['payment_type']==1]\n",
    "    df.drop(['payment_type'],axis=1, inplace=True)\n",
    "    df['total_cost'] = df[['fare_amount', 'extra', 'mta_tax', 'tolls_amount', 'improvement_surcharge']].sum(axis=1)\n",
    "    df.drop('total_amount', axis=1, inplace=True)\n",
    "    return df"
   ]
  },
  {
   "cell_type": "code",
   "execution_count": 3,
   "metadata": {},
   "outputs": [],
   "source": [
    "#Convert tpep_* columns to datetime format. Create features based on these datetimes.\n",
    "def process_tpep(df):\n",
    "    df['tpep_dropoff_datetime'] = pd.to_datetime(df['tpep_dropoff_datetime'])\n",
    "    df['tpep_pickup_datetime'] = pd.to_datetime(df['tpep_pickup_datetime'])\n",
    "    df['month'] = df['tpep_pickup_datetime'].dt.month\n",
    "    df['day'] = df['tpep_pickup_datetime'].dt.day\n",
    "    df['dayofweek'] = df['tpep_pickup_datetime'].dt.dayofweek\n",
    "    df['hour_PU'] = df['tpep_pickup_datetime'].dt.hour\n",
    "    df['hour_DO'] = df['tpep_dropoff_datetime'].dt.hour\n",
    "    df.drop(['tpep_pickup_datetime', 'tpep_dropoff_datetime'], axis=1, inplace=True)\n",
    "    return df"
   ]
  },
  {
   "cell_type": "code",
   "execution_count": 4,
   "metadata": {},
   "outputs": [],
   "source": [
    "#Add the taxi zone data to the DataFrame. Drop Zones because they are already included in the PULocationID \n",
    "#and DOLocationID. Fill missing data with 'Unknown'.\n",
    "def process_zones(df):\n",
    "    taxi_zones = pd.read_csv('./data/taxi+_zone_lookup.csv') \n",
    "    df = df.merge(taxi_zones, how='left', left_on='PULocationID', right_on='LocationID')\n",
    "    df = df.merge(taxi_zones, how='left', left_on='DOLocationID', right_on='LocationID', suffixes=(None, '_DO'))\n",
    "    del taxi_zones\n",
    "    gc.collect()\n",
    "    df.drop(['LocationID', 'LocationID_DO', 'Zone', 'Zone_DO'], axis=1, inplace=True)\n",
    "    df = df.rename(columns={'Borough': 'Borough_PU', 'service_zone': 'service_zone_PU'})\n",
    "    gc.collect()\n",
    "    df[['Borough_PU', 'Borough_DO', 'service_zone_PU', 'service_zone_DO']] = df[['Borough_PU', 'Borough_DO', 'service_zone_PU', 'service_zone_DO']].fillna('Unknown')\n",
    "    return df"
   ]
  },
  {
   "cell_type": "code",
   "execution_count": 5,
   "metadata": {},
   "outputs": [],
   "source": [
    "#Process each months' data, split it into train and test sets and save them in the tmp folder.\n",
    "if os.path.isdir(\"./tmp\"):\n",
    "    shutil.rmtree('/tmp')\n",
    "os.mkdir('tmp')\n",
    "\n",
    "#For march, june, november\n",
    "for i,month in enumerate(['03', '06', '11']):\n",
    "    df = pd.read_csv('./data/yellow_tripdata_2017-{0}.csv'.format(month))\n",
    "    df = totals(df)\n",
    "    df = process_tpep(df)\n",
    "    df = process_zones(df)\n",
    "    train, test = train_test_split(df, test_size = 0.2, random_state=42)\n",
    "    if i == 0:\n",
    "        train.to_csv('./tmp/train.csv', index=False, header=True)\n",
    "        test.to_csv('./tmp/test.csv', index=False, header=True)\n",
    "    else:\n",
    "        train.to_csv('./tmp/train.csv', index=False, header=False, mode='a')\n",
    "        test.to_csv('./tmp/test.csv', index=False, header=False, mode='a')\n",
    "    del train, test\n",
    "    gc.collect()"
   ]
  },
  {
   "cell_type": "markdown",
   "metadata": {},
   "source": [
    "## Baseline model"
   ]
  },
  {
   "cell_type": "markdown",
   "metadata": {},
   "source": [
    "Let's create a quick baseline model to have something to compare to. \n",
    "\n",
    "When deciding how much to tip, most people looks at the total to pay and quickly calculates a certain percentage of that amount for tipping. So my baseline model will be a simple linear regression using the total cost of trip."
   ]
  },
  {
   "cell_type": "code",
   "execution_count": 6,
   "metadata": {},
   "outputs": [],
   "source": [
    "df = pd.read_csv('./tmp/train.csv')"
   ]
  },
  {
   "cell_type": "code",
   "execution_count": 7,
   "metadata": {},
   "outputs": [
    {
     "data": {
      "text/plain": [
       "0"
      ]
     },
     "execution_count": 7,
     "metadata": {},
     "output_type": "execute_result"
    }
   ],
   "source": [
    "#Let's split the data to train and validation sets.\n",
    "X = df[['fare_amount', 'extra', 'mta_tax', 'tolls_amount', 'improvement_surcharge']]\n",
    "y = df['tip_amount']\n",
    "X_train, X_val, y_train, y_val = train_test_split(X, y, test_size=0.2, random_state=42)\n",
    "del df, X, y\n",
    "gc.collect()"
   ]
  },
  {
   "cell_type": "code",
   "execution_count": 8,
   "metadata": {},
   "outputs": [
    {
     "name": "stdout",
     "output_type": "stream",
     "text": [
      "(12700498, 5) (3175125, 5)\n"
     ]
    }
   ],
   "source": [
    "print(X_train.shape, X_val.shape)"
   ]
  },
  {
   "cell_type": "code",
   "execution_count": 9,
   "metadata": {},
   "outputs": [
    {
     "name": "stdout",
     "output_type": "stream",
     "text": [
      "Training score: 0.5797\n"
     ]
    }
   ],
   "source": [
    "#Fit the model\n",
    "lr = LinearRegression().fit(X_train, y_train)\n",
    "#Let's look at the score\n",
    "print(f'Training score: {lr.score(X_train, y_train):.4f}')\n",
    "#Predict the labels for the validation set\n",
    "y_pred = lr.predict(X_val)"
   ]
  },
  {
   "cell_type": "code",
   "execution_count": 10,
   "metadata": {},
   "outputs": [
    {
     "name": "stdout",
     "output_type": "stream",
     "text": [
      "Validation score: 0.5938\n",
      "RMSE: 1.7587\n",
      "MAE: 0.7737\n"
     ]
    }
   ],
   "source": [
    "#Predict the labels for the validation set\n",
    "y_pred = lr.predict(X_val)\n",
    "#Let's look at the rmse and mae metrics of the results\n",
    "print(f'Validation score: {lr.score(X_val, y_val):.4f}')\n",
    "print(f'RMSE: {math.sqrt(mean_squared_error(y_val, y_pred)):.4f}')\n",
    "print(f'MAE: {mean_absolute_error(y_val, y_pred):.4f}')"
   ]
  },
  {
   "cell_type": "code",
   "execution_count": 11,
   "metadata": {},
   "outputs": [
    {
     "data": {
      "text/html": [
       "<div>\n",
       "<style scoped>\n",
       "    .dataframe tbody tr th:only-of-type {\n",
       "        vertical-align: middle;\n",
       "    }\n",
       "\n",
       "    .dataframe tbody tr th {\n",
       "        vertical-align: top;\n",
       "    }\n",
       "\n",
       "    .dataframe thead th {\n",
       "        text-align: right;\n",
       "    }\n",
       "</style>\n",
       "<table border=\"1\" class=\"dataframe\">\n",
       "  <thead>\n",
       "    <tr style=\"text-align: right;\">\n",
       "      <th></th>\n",
       "      <th>importance</th>\n",
       "    </tr>\n",
       "  </thead>\n",
       "  <tbody>\n",
       "    <tr>\n",
       "      <th>fare_amount</th>\n",
       "      <td>100.0</td>\n",
       "    </tr>\n",
       "    <tr>\n",
       "      <th>extra</th>\n",
       "      <td>100.0</td>\n",
       "    </tr>\n",
       "    <tr>\n",
       "      <th>mta_tax</th>\n",
       "      <td>100.0</td>\n",
       "    </tr>\n",
       "    <tr>\n",
       "      <th>tolls_amount</th>\n",
       "      <td>100.0</td>\n",
       "    </tr>\n",
       "    <tr>\n",
       "      <th>improvement_surcharge</th>\n",
       "      <td>100.0</td>\n",
       "    </tr>\n",
       "  </tbody>\n",
       "</table>\n",
       "</div>"
      ],
      "text/plain": [
       "                       importance\n",
       "fare_amount                 100.0\n",
       "extra                       100.0\n",
       "mta_tax                     100.0\n",
       "tolls_amount                100.0\n",
       "improvement_surcharge       100.0"
      ]
     },
     "execution_count": 11,
     "metadata": {},
     "output_type": "execute_result"
    }
   ],
   "source": [
    "feature_importance = abs(lr.coef_[0])\n",
    "feature_importance = 100.0 * (feature_importance / feature_importance.max())\n",
    "feature_importances = pd.DataFrame(feature_importance, index = X_train.columns, \n",
    "                                   columns=['importance']).sort_values('importance', ascending=False)\n",
    "feature_importances.head(10)"
   ]
  },
  {
   "cell_type": "markdown",
   "metadata": {},
   "source": [
    "## Random Forest"
   ]
  },
  {
   "cell_type": "markdown",
   "metadata": {},
   "source": [
    "With so many categorical variables tree-based algorithm are usually prove to be a good choice. Here I will use first the random forest algorithm to see how much improvement I get compared to the baseline.\n",
    "\n",
    "I will subsample the data to make it run faster. "
   ]
  },
  {
   "cell_type": "code",
   "execution_count": 12,
   "metadata": {},
   "outputs": [],
   "source": [
    "df = pd.read_csv('./tmp/train.csv')\n",
    "df = df.sample(1000000)"
   ]
  },
  {
   "cell_type": "code",
   "execution_count": 13,
   "metadata": {},
   "outputs": [
    {
     "data": {
      "text/plain": [
       "0"
      ]
     },
     "execution_count": 13,
     "metadata": {},
     "output_type": "execute_result"
    }
   ],
   "source": [
    "# Since the fare_amount and the total_cost columns are highly correlated, I decided to drop the total_cost \n",
    "# and keep the fare_amount.\n",
    "X = df.drop(['tip_amount', 'total_cost'], axis=1)\n",
    "y = df['tip_amount']\n",
    "del df\n",
    "gc.collect()"
   ]
  },
  {
   "cell_type": "code",
   "execution_count": 14,
   "metadata": {},
   "outputs": [],
   "source": [
    "categorical = ['VendorID', 'RatecodeID', 'PULocationID', 'DOLocationID', 'month', 'day', 'dayofweek', 'hour_PU', 'hour_DO', 'store_and_fwd_flag', 'Borough_PU', 'service_zone_PU', 'Borough_DO', 'service_zone_DO']\n",
    "numerical = ['passenger_count', 'trip_distance', 'fare_amount', 'extra', 'mta_tax', 'tolls_amount', 'improvement_surcharge', 'total']\n"
   ]
  },
  {
   "cell_type": "code",
   "execution_count": 15,
   "metadata": {},
   "outputs": [],
   "source": [
    "#Split to train and validation sets\n",
    "X_train, X_val, y_train, y_val = train_test_split(X, y, test_size=0.2, random_state=42)\n",
    "del X, y\n",
    "gc.collect()\n",
    "X_train.reset_index(drop=True, inplace=True)\n",
    "y_train.reset_index(drop=True, inplace=True)\n",
    "X_val.reset_index(drop=True, inplace=True)\n",
    "y_val.reset_index(drop=True, inplace=True)"
   ]
  },
  {
   "cell_type": "code",
   "execution_count": 16,
   "metadata": {},
   "outputs": [
    {
     "name": "stdout",
     "output_type": "stream",
     "text": [
      "(800000, 21) (200000, 21)\n"
     ]
    }
   ],
   "source": [
    "print(X_train.shape, X_val.shape)"
   ]
  },
  {
   "cell_type": "code",
   "execution_count": 17,
   "metadata": {},
   "outputs": [
    {
     "name": "stdout",
     "output_type": "stream",
     "text": [
      "VendorID\n",
      "RatecodeID\n",
      "PULocationID\n",
      "DOLocationID\n",
      "month\n",
      "day\n",
      "dayofweek\n",
      "hour_PU\n",
      "hour_DO\n",
      "store_and_fwd_flag\n",
      "Borough_PU\n",
      "service_zone_PU\n",
      "Borough_DO\n",
      "service_zone_DO\n",
      "VendorID\n",
      "RatecodeID\n",
      "PULocationID\n",
      "DOLocationID\n",
      "month\n",
      "day\n",
      "dayofweek\n",
      "hour_PU\n",
      "hour_DO\n",
      "store_and_fwd_flag\n",
      "Borough_PU\n",
      "service_zone_PU\n",
      "Borough_DO\n",
      "service_zone_DO\n"
     ]
    }
   ],
   "source": [
    "# When categorical columns with numerical encoding are not ordinal, it works better to use one-hot encoding.\n",
    "# The train set is used to fit the encoder, which is then saved to transform the validation and test data.\n",
    "\n",
    "encoders = {}\n",
    "for col in categorical:\n",
    "    print(col)\n",
    "    ohe = OneHotEncoder(sparse=False, handle_unknown='ignore' )\n",
    "    a = ohe.fit_transform(np.asarray(X_train[col]).reshape(-1, 1))\n",
    "    a = pd.DataFrame(a)\n",
    "    a.columns = ['_'.join([col, str(c)]) for c in ohe.categories_[0]]\n",
    "    X_train = pd.concat((X_train, a), axis=1)\n",
    "    del a\n",
    "    encoders[col] = ohe\n",
    "    X_train.drop(col, axis=1, inplace=True)\n",
    "    gc.collect()\n",
    "    \n",
    "#Let's transform the validation set, too\n",
    "for col in categorical:\n",
    "    print(col)\n",
    "    ohe = encoders[col]\n",
    "    a = ohe.transform(np.asarray(X_val[col]).reshape(-1, 1))\n",
    "    a = pd.DataFrame(a)\n",
    "    a.columns = [col + '_' + str(c) for c in ohe.categories_[0]]\n",
    "    X_val = pd.concat((X_val, a), axis=1)\n",
    "    del a\n",
    "    X_val.drop(col, axis=1, inplace=True)\n",
    "    gc.collect()\n",
    "    \n",
    "assert X_train.shape[1] == X_val.shape[1]"
   ]
  },
  {
   "cell_type": "code",
   "execution_count": 18,
   "metadata": {},
   "outputs": [
    {
     "name": "stdout",
     "output_type": "stream",
     "text": [
      "Training score: 0.7104\n",
      "CPU times: user 1h 49min 49s, sys: 2.53 s, total: 1h 49min 52s\n",
      "Wall time: 7min 13s\n"
     ]
    }
   ],
   "source": [
    "%%time\n",
    "\n",
    "# Fit the random forest regressor\n",
    "rf = RandomForestRegressor(max_depth=10, random_state=0, n_jobs=-1)\n",
    "rf.fit(X_train, y_train)\n",
    "print(f'Training score: {rf.score(X_train, y_train):.4f}')"
   ]
  },
  {
   "cell_type": "code",
   "execution_count": 19,
   "metadata": {},
   "outputs": [
    {
     "name": "stdout",
     "output_type": "stream",
     "text": [
      "0.7103899836689429\n",
      "0.5356208056404663\n"
     ]
    }
   ],
   "source": [
    "print(rf.score(X_train, y_train))\n",
    "print(rf.score(X_val, y_val))"
   ]
  },
  {
   "cell_type": "code",
   "execution_count": 20,
   "metadata": {},
   "outputs": [
    {
     "name": "stdout",
     "output_type": "stream",
     "text": [
      "Validation score: 0.5356\n",
      "RMSE: 2.0256\n",
      "MAE: 0.7569\n"
     ]
    }
   ],
   "source": [
    "y_pred = rf.predict(X_val)\n",
    "print(f'Validation score: {rf.score(X_val, y_val):.4f}')\n",
    "print(f'RMSE: {math.sqrt(mean_squared_error(y_val, y_pred)):.4f}')\n",
    "print(f'MAE: {mean_absolute_error(y_val, y_pred):.4f}')"
   ]
  },
  {
   "cell_type": "code",
   "execution_count": 21,
   "metadata": {},
   "outputs": [
    {
     "data": {
      "text/html": [
       "<div>\n",
       "<style scoped>\n",
       "    .dataframe tbody tr th:only-of-type {\n",
       "        vertical-align: middle;\n",
       "    }\n",
       "\n",
       "    .dataframe tbody tr th {\n",
       "        vertical-align: top;\n",
       "    }\n",
       "\n",
       "    .dataframe thead th {\n",
       "        text-align: right;\n",
       "    }\n",
       "</style>\n",
       "<table border=\"1\" class=\"dataframe\">\n",
       "  <thead>\n",
       "    <tr style=\"text-align: right;\">\n",
       "      <th></th>\n",
       "      <th>importance</th>\n",
       "    </tr>\n",
       "  </thead>\n",
       "  <tbody>\n",
       "    <tr>\n",
       "      <th>fare_amount</th>\n",
       "      <td>0.810982</td>\n",
       "    </tr>\n",
       "    <tr>\n",
       "      <th>PULocationID_114</th>\n",
       "      <td>0.024208</td>\n",
       "    </tr>\n",
       "    <tr>\n",
       "      <th>trip_distance</th>\n",
       "      <td>0.019568</td>\n",
       "    </tr>\n",
       "    <tr>\n",
       "      <th>DOLocationID_265</th>\n",
       "      <td>0.017951</td>\n",
       "    </tr>\n",
       "    <tr>\n",
       "      <th>tolls_amount</th>\n",
       "      <td>0.017890</td>\n",
       "    </tr>\n",
       "    <tr>\n",
       "      <th>DOLocationID_21</th>\n",
       "      <td>0.007538</td>\n",
       "    </tr>\n",
       "    <tr>\n",
       "      <th>PULocationID_265</th>\n",
       "      <td>0.004906</td>\n",
       "    </tr>\n",
       "    <tr>\n",
       "      <th>day_17</th>\n",
       "      <td>0.003448</td>\n",
       "    </tr>\n",
       "    <tr>\n",
       "      <th>hour_PU_21</th>\n",
       "      <td>0.002851</td>\n",
       "    </tr>\n",
       "    <tr>\n",
       "      <th>day_29</th>\n",
       "      <td>0.002764</td>\n",
       "    </tr>\n",
       "  </tbody>\n",
       "</table>\n",
       "</div>"
      ],
      "text/plain": [
       "                  importance\n",
       "fare_amount         0.810982\n",
       "PULocationID_114    0.024208\n",
       "trip_distance       0.019568\n",
       "DOLocationID_265    0.017951\n",
       "tolls_amount        0.017890\n",
       "DOLocationID_21     0.007538\n",
       "PULocationID_265    0.004906\n",
       "day_17              0.003448\n",
       "hour_PU_21          0.002851\n",
       "day_29              0.002764"
      ]
     },
     "execution_count": 21,
     "metadata": {},
     "output_type": "execute_result"
    }
   ],
   "source": [
    "#Examine the most important features\n",
    "feature_importances = pd.DataFrame(rf.feature_importances_, index = X_train.columns, \n",
    "                                   columns=['importance']).sort_values('importance', ascending=False)\n",
    "feature_importances.head(10)"
   ]
  },
  {
   "cell_type": "markdown",
   "metadata": {},
   "source": [
    "The random forest algorithm gave practically the same result as the linear regression. As we can see from the feature importances, the most important feature here is also the price of the trip, all the other features have significantly less importance.\n",
    "\n",
    "It's possible that using all the data instead of the subsample, and applying hyperparameter tuning we could achieve a bit better results. However, it's clear that by far the most important feature is the price of the trip, and we would be wasting time and resources for only a little improvement.\n",
    "\n",
    "Therefore I would propose to use the more simple algorithm for predicting tips. Linear regression is simple, very fast to run, and easy to build an API with it."
   ]
  },
  {
   "cell_type": "markdown",
   "metadata": {},
   "source": [
    "## Linear regression"
   ]
  },
  {
   "cell_type": "code",
   "execution_count": 22,
   "metadata": {},
   "outputs": [
    {
     "data": {
      "text/plain": [
       "0"
      ]
     },
     "execution_count": 22,
     "metadata": {},
     "output_type": "execute_result"
    }
   ],
   "source": [
    "df = pd.read_csv('./tmp/train.csv')\n",
    "X=df[['fare_amount', 'extra', 'mta_tax', 'tolls_amount', 'improvement_surcharge']]\n",
    "y = df['tip_amount']\n",
    "del df\n",
    "gc.collect()\n",
    "X_train, X_val, y_train, y_val = train_test_split(X, y, test_size=0.2, random_state=42)\n",
    "del X, y\n",
    "gc.collect()"
   ]
  },
  {
   "cell_type": "code",
   "execution_count": 23,
   "metadata": {},
   "outputs": [
    {
     "name": "stdout",
     "output_type": "stream",
     "text": [
      "[0.15462518 0.20830072 0.64231625 0.27978208 6.09069465] -1.6595347908575366\n"
     ]
    }
   ],
   "source": [
    "lr = LinearRegression().fit(X_train, y_train)\n",
    "print(lr.coef_, lr.intercept_)"
   ]
  },
  {
   "cell_type": "code",
   "execution_count": 24,
   "metadata": {},
   "outputs": [
    {
     "name": "stdout",
     "output_type": "stream",
     "text": [
      "RMSE: 1.7586851479746746\n",
      "MAE: 0.7735659698437072\n",
      "max error: 288.78\n"
     ]
    }
   ],
   "source": [
    "y_pred = lr.predict(X_val).round(2)\n",
    "print(f'RMSE: {math.sqrt(mean_squared_error(y_val, y_pred))}')\n",
    "print(f'MAE: {mean_absolute_error(y_val, y_pred)}')\n",
    "print(f'max error: {max_error(y_val, y_pred)}')"
   ]
  },
  {
   "cell_type": "markdown",
   "metadata": {},
   "source": [
    "People often like to calculate their tips in a way that the total amount is an integer number. We can also very simply suggest such a tip, and it only slight increases the error:"
   ]
  },
  {
   "cell_type": "code",
   "execution_count": 26,
   "metadata": {},
   "outputs": [
    {
     "name": "stdout",
     "output_type": "stream",
     "text": [
      "RMSE: 1.7836382508240742\n",
      "MAE: 0.8431203810873585\n",
      "max error: 288.56\n"
     ]
    }
   ],
   "source": [
    "def rounded_tip(X, y_pred):\n",
    "    return (X.sum(axis=1) + y_pred).apply(np.rint) - X.sum(axis=1)\n",
    "\n",
    "y_pred_rounded = rounded_tip(X_val, y_pred)\n",
    "print(f'RMSE: {math.sqrt(mean_squared_error(y_val, y_pred_rounded))}')\n",
    "print(f'MAE: {mean_absolute_error(y_val, y_pred_rounded)}')\n",
    "print(f'max error: {max_error(y_val, y_pred_rounded)}')"
   ]
  },
  {
   "cell_type": "code",
   "execution_count": 27,
   "metadata": {},
   "outputs": [
    {
     "data": {
      "text/html": [
       "<div>\n",
       "<style scoped>\n",
       "    .dataframe tbody tr th:only-of-type {\n",
       "        vertical-align: middle;\n",
       "    }\n",
       "\n",
       "    .dataframe tbody tr th {\n",
       "        vertical-align: top;\n",
       "    }\n",
       "\n",
       "    .dataframe thead th {\n",
       "        text-align: right;\n",
       "    }\n",
       "</style>\n",
       "<table border=\"1\" class=\"dataframe\">\n",
       "  <thead>\n",
       "    <tr style=\"text-align: right;\">\n",
       "      <th></th>\n",
       "      <th>fare_amount</th>\n",
       "      <th>extra</th>\n",
       "      <th>mta_tax</th>\n",
       "      <th>tolls_amount</th>\n",
       "      <th>improvement_surcharge</th>\n",
       "      <th>y_pred</th>\n",
       "      <th>y_pred_rounded</th>\n",
       "      <th>y_val</th>\n",
       "    </tr>\n",
       "  </thead>\n",
       "  <tbody>\n",
       "    <tr>\n",
       "      <th>2987345</th>\n",
       "      <td>7.5</td>\n",
       "      <td>0.0</td>\n",
       "      <td>0.5</td>\n",
       "      <td>0.0</td>\n",
       "      <td>0.3</td>\n",
       "      <td>1.65</td>\n",
       "      <td>1.7</td>\n",
       "      <td>1.66</td>\n",
       "    </tr>\n",
       "    <tr>\n",
       "      <th>3702940</th>\n",
       "      <td>11.5</td>\n",
       "      <td>1.0</td>\n",
       "      <td>0.5</td>\n",
       "      <td>0.0</td>\n",
       "      <td>0.3</td>\n",
       "      <td>2.48</td>\n",
       "      <td>2.7</td>\n",
       "      <td>2.08</td>\n",
       "    </tr>\n",
       "    <tr>\n",
       "      <th>13285301</th>\n",
       "      <td>9.0</td>\n",
       "      <td>0.0</td>\n",
       "      <td>0.5</td>\n",
       "      <td>0.0</td>\n",
       "      <td>0.3</td>\n",
       "      <td>1.88</td>\n",
       "      <td>2.2</td>\n",
       "      <td>1.95</td>\n",
       "    </tr>\n",
       "    <tr>\n",
       "      <th>14005756</th>\n",
       "      <td>2.5</td>\n",
       "      <td>0.0</td>\n",
       "      <td>0.5</td>\n",
       "      <td>0.0</td>\n",
       "      <td>0.3</td>\n",
       "      <td>0.88</td>\n",
       "      <td>0.7</td>\n",
       "      <td>4.00</td>\n",
       "    </tr>\n",
       "    <tr>\n",
       "      <th>5479312</th>\n",
       "      <td>9.0</td>\n",
       "      <td>0.0</td>\n",
       "      <td>0.5</td>\n",
       "      <td>0.0</td>\n",
       "      <td>0.3</td>\n",
       "      <td>1.88</td>\n",
       "      <td>2.2</td>\n",
       "      <td>2.00</td>\n",
       "    </tr>\n",
       "    <tr>\n",
       "      <th>10079834</th>\n",
       "      <td>7.5</td>\n",
       "      <td>0.0</td>\n",
       "      <td>0.5</td>\n",
       "      <td>0.0</td>\n",
       "      <td>0.3</td>\n",
       "      <td>1.65</td>\n",
       "      <td>1.7</td>\n",
       "      <td>1.66</td>\n",
       "    </tr>\n",
       "    <tr>\n",
       "      <th>15647979</th>\n",
       "      <td>14.0</td>\n",
       "      <td>0.0</td>\n",
       "      <td>0.5</td>\n",
       "      <td>0.0</td>\n",
       "      <td>0.3</td>\n",
       "      <td>2.65</td>\n",
       "      <td>2.2</td>\n",
       "      <td>3.70</td>\n",
       "    </tr>\n",
       "    <tr>\n",
       "      <th>4244662</th>\n",
       "      <td>14.5</td>\n",
       "      <td>0.0</td>\n",
       "      <td>0.5</td>\n",
       "      <td>0.0</td>\n",
       "      <td>0.3</td>\n",
       "      <td>2.73</td>\n",
       "      <td>2.7</td>\n",
       "      <td>3.05</td>\n",
       "    </tr>\n",
       "    <tr>\n",
       "      <th>8370752</th>\n",
       "      <td>5.0</td>\n",
       "      <td>0.0</td>\n",
       "      <td>0.5</td>\n",
       "      <td>0.0</td>\n",
       "      <td>0.3</td>\n",
       "      <td>1.26</td>\n",
       "      <td>1.2</td>\n",
       "      <td>1.70</td>\n",
       "    </tr>\n",
       "    <tr>\n",
       "      <th>15073795</th>\n",
       "      <td>4.5</td>\n",
       "      <td>0.5</td>\n",
       "      <td>0.5</td>\n",
       "      <td>0.0</td>\n",
       "      <td>0.3</td>\n",
       "      <td>1.29</td>\n",
       "      <td>1.2</td>\n",
       "      <td>1.74</td>\n",
       "    </tr>\n",
       "    <tr>\n",
       "      <th>7125365</th>\n",
       "      <td>4.5</td>\n",
       "      <td>0.0</td>\n",
       "      <td>0.5</td>\n",
       "      <td>0.0</td>\n",
       "      <td>0.3</td>\n",
       "      <td>1.18</td>\n",
       "      <td>0.7</td>\n",
       "      <td>1.55</td>\n",
       "    </tr>\n",
       "    <tr>\n",
       "      <th>13076896</th>\n",
       "      <td>14.0</td>\n",
       "      <td>0.5</td>\n",
       "      <td>0.5</td>\n",
       "      <td>0.0</td>\n",
       "      <td>0.3</td>\n",
       "      <td>2.76</td>\n",
       "      <td>2.7</td>\n",
       "      <td>4.59</td>\n",
       "    </tr>\n",
       "    <tr>\n",
       "      <th>4256254</th>\n",
       "      <td>19.5</td>\n",
       "      <td>0.0</td>\n",
       "      <td>0.5</td>\n",
       "      <td>0.0</td>\n",
       "      <td>0.3</td>\n",
       "      <td>3.50</td>\n",
       "      <td>3.7</td>\n",
       "      <td>3.25</td>\n",
       "    </tr>\n",
       "    <tr>\n",
       "      <th>6473016</th>\n",
       "      <td>24.0</td>\n",
       "      <td>0.5</td>\n",
       "      <td>0.5</td>\n",
       "      <td>0.0</td>\n",
       "      <td>0.3</td>\n",
       "      <td>4.30</td>\n",
       "      <td>4.7</td>\n",
       "      <td>5.00</td>\n",
       "    </tr>\n",
       "    <tr>\n",
       "      <th>9849691</th>\n",
       "      <td>8.0</td>\n",
       "      <td>0.0</td>\n",
       "      <td>0.5</td>\n",
       "      <td>0.0</td>\n",
       "      <td>0.3</td>\n",
       "      <td>1.73</td>\n",
       "      <td>2.2</td>\n",
       "      <td>2.20</td>\n",
       "    </tr>\n",
       "    <tr>\n",
       "      <th>14656001</th>\n",
       "      <td>7.0</td>\n",
       "      <td>0.0</td>\n",
       "      <td>0.5</td>\n",
       "      <td>0.0</td>\n",
       "      <td>0.3</td>\n",
       "      <td>1.57</td>\n",
       "      <td>1.2</td>\n",
       "      <td>1.95</td>\n",
       "    </tr>\n",
       "    <tr>\n",
       "      <th>4905843</th>\n",
       "      <td>5.0</td>\n",
       "      <td>1.0</td>\n",
       "      <td>0.5</td>\n",
       "      <td>0.0</td>\n",
       "      <td>0.3</td>\n",
       "      <td>1.47</td>\n",
       "      <td>1.2</td>\n",
       "      <td>1.35</td>\n",
       "    </tr>\n",
       "    <tr>\n",
       "      <th>598104</th>\n",
       "      <td>3.5</td>\n",
       "      <td>0.5</td>\n",
       "      <td>0.5</td>\n",
       "      <td>0.0</td>\n",
       "      <td>0.3</td>\n",
       "      <td>1.13</td>\n",
       "      <td>1.2</td>\n",
       "      <td>1.20</td>\n",
       "    </tr>\n",
       "    <tr>\n",
       "      <th>9046476</th>\n",
       "      <td>7.5</td>\n",
       "      <td>0.0</td>\n",
       "      <td>0.5</td>\n",
       "      <td>0.0</td>\n",
       "      <td>0.3</td>\n",
       "      <td>1.65</td>\n",
       "      <td>1.7</td>\n",
       "      <td>1.70</td>\n",
       "    </tr>\n",
       "    <tr>\n",
       "      <th>262505</th>\n",
       "      <td>11.0</td>\n",
       "      <td>0.0</td>\n",
       "      <td>0.5</td>\n",
       "      <td>0.0</td>\n",
       "      <td>0.3</td>\n",
       "      <td>2.19</td>\n",
       "      <td>2.2</td>\n",
       "      <td>2.95</td>\n",
       "    </tr>\n",
       "  </tbody>\n",
       "</table>\n",
       "</div>"
      ],
      "text/plain": [
       "          fare_amount  extra  mta_tax  tolls_amount  improvement_surcharge  \\\n",
       "2987345           7.5    0.0      0.5           0.0                    0.3   \n",
       "3702940          11.5    1.0      0.5           0.0                    0.3   \n",
       "13285301          9.0    0.0      0.5           0.0                    0.3   \n",
       "14005756          2.5    0.0      0.5           0.0                    0.3   \n",
       "5479312           9.0    0.0      0.5           0.0                    0.3   \n",
       "10079834          7.5    0.0      0.5           0.0                    0.3   \n",
       "15647979         14.0    0.0      0.5           0.0                    0.3   \n",
       "4244662          14.5    0.0      0.5           0.0                    0.3   \n",
       "8370752           5.0    0.0      0.5           0.0                    0.3   \n",
       "15073795          4.5    0.5      0.5           0.0                    0.3   \n",
       "7125365           4.5    0.0      0.5           0.0                    0.3   \n",
       "13076896         14.0    0.5      0.5           0.0                    0.3   \n",
       "4256254          19.5    0.0      0.5           0.0                    0.3   \n",
       "6473016          24.0    0.5      0.5           0.0                    0.3   \n",
       "9849691           8.0    0.0      0.5           0.0                    0.3   \n",
       "14656001          7.0    0.0      0.5           0.0                    0.3   \n",
       "4905843           5.0    1.0      0.5           0.0                    0.3   \n",
       "598104            3.5    0.5      0.5           0.0                    0.3   \n",
       "9046476           7.5    0.0      0.5           0.0                    0.3   \n",
       "262505           11.0    0.0      0.5           0.0                    0.3   \n",
       "\n",
       "          y_pred  y_pred_rounded  y_val  \n",
       "2987345     1.65             1.7   1.66  \n",
       "3702940     2.48             2.7   2.08  \n",
       "13285301    1.88             2.2   1.95  \n",
       "14005756    0.88             0.7   4.00  \n",
       "5479312     1.88             2.2   2.00  \n",
       "10079834    1.65             1.7   1.66  \n",
       "15647979    2.65             2.2   3.70  \n",
       "4244662     2.73             2.7   3.05  \n",
       "8370752     1.26             1.2   1.70  \n",
       "15073795    1.29             1.2   1.74  \n",
       "7125365     1.18             0.7   1.55  \n",
       "13076896    2.76             2.7   4.59  \n",
       "4256254     3.50             3.7   3.25  \n",
       "6473016     4.30             4.7   5.00  \n",
       "9849691     1.73             2.2   2.20  \n",
       "14656001    1.57             1.2   1.95  \n",
       "4905843     1.47             1.2   1.35  \n",
       "598104      1.13             1.2   1.20  \n",
       "9046476     1.65             1.7   1.70  \n",
       "262505      2.19             2.2   2.95  "
      ]
     },
     "execution_count": 27,
     "metadata": {},
     "output_type": "execute_result"
    }
   ],
   "source": [
    "#Here we can compare the predicted tips with the real values (y_val)\n",
    "out = X_val.copy()\n",
    "out['y_pred'] = y_pred.flatten()\n",
    "out['y_pred_rounded'] = y_pred_rounded\n",
    "out['y_val'] = y_val\n",
    "out.head(20)"
   ]
  },
  {
   "cell_type": "markdown",
   "metadata": {},
   "source": [
    "The max error is quite high. The reason for that seem to be that there are entries where the amount of the tip is significantly higher than the fare of the trip. We might consider removing these entries and repeat the fitting, but these are just a few entries, so this time I will not do that."
   ]
  },
  {
   "cell_type": "code",
   "execution_count": 32,
   "metadata": {},
   "outputs": [
    {
     "data": {
      "text/html": [
       "<div>\n",
       "<style scoped>\n",
       "    .dataframe tbody tr th:only-of-type {\n",
       "        vertical-align: middle;\n",
       "    }\n",
       "\n",
       "    .dataframe tbody tr th {\n",
       "        vertical-align: top;\n",
       "    }\n",
       "\n",
       "    .dataframe thead th {\n",
       "        text-align: right;\n",
       "    }\n",
       "</style>\n",
       "<table border=\"1\" class=\"dataframe\">\n",
       "  <thead>\n",
       "    <tr style=\"text-align: right;\">\n",
       "      <th></th>\n",
       "      <th>fare_amount</th>\n",
       "      <th>extra</th>\n",
       "      <th>mta_tax</th>\n",
       "      <th>tolls_amount</th>\n",
       "      <th>improvement_surcharge</th>\n",
       "      <th>y_pred</th>\n",
       "      <th>y_pred_rounded</th>\n",
       "      <th>y_val</th>\n",
       "    </tr>\n",
       "  </thead>\n",
       "  <tbody>\n",
       "    <tr>\n",
       "      <th>11366086</th>\n",
       "      <td>12.5</td>\n",
       "      <td>0.0</td>\n",
       "      <td>0.5</td>\n",
       "      <td>0.00</td>\n",
       "      <td>0.3</td>\n",
       "      <td>2.42</td>\n",
       "      <td>2.70</td>\n",
       "      <td>222.22</td>\n",
       "    </tr>\n",
       "    <tr>\n",
       "      <th>13042138</th>\n",
       "      <td>10.5</td>\n",
       "      <td>0.0</td>\n",
       "      <td>0.5</td>\n",
       "      <td>0.00</td>\n",
       "      <td>0.3</td>\n",
       "      <td>2.11</td>\n",
       "      <td>1.70</td>\n",
       "      <td>257.72</td>\n",
       "    </tr>\n",
       "    <tr>\n",
       "      <th>6186775</th>\n",
       "      <td>133.0</td>\n",
       "      <td>0.0</td>\n",
       "      <td>0.0</td>\n",
       "      <td>16.50</td>\n",
       "      <td>0.3</td>\n",
       "      <td>25.35</td>\n",
       "      <td>25.20</td>\n",
       "      <td>250.00</td>\n",
       "    </tr>\n",
       "    <tr>\n",
       "      <th>9152465</th>\n",
       "      <td>59.0</td>\n",
       "      <td>0.0</td>\n",
       "      <td>0.5</td>\n",
       "      <td>5.76</td>\n",
       "      <td>0.3</td>\n",
       "      <td>11.22</td>\n",
       "      <td>11.44</td>\n",
       "      <td>300.00</td>\n",
       "    </tr>\n",
       "    <tr>\n",
       "      <th>737201</th>\n",
       "      <td>13.5</td>\n",
       "      <td>0.0</td>\n",
       "      <td>0.5</td>\n",
       "      <td>0.00</td>\n",
       "      <td>0.3</td>\n",
       "      <td>2.58</td>\n",
       "      <td>2.70</td>\n",
       "      <td>250.00</td>\n",
       "    </tr>\n",
       "    <tr>\n",
       "      <th>7425135</th>\n",
       "      <td>52.0</td>\n",
       "      <td>0.0</td>\n",
       "      <td>0.5</td>\n",
       "      <td>12.50</td>\n",
       "      <td>0.3</td>\n",
       "      <td>12.03</td>\n",
       "      <td>11.70</td>\n",
       "      <td>226.76</td>\n",
       "    </tr>\n",
       "    <tr>\n",
       "      <th>15400213</th>\n",
       "      <td>52.0</td>\n",
       "      <td>0.0</td>\n",
       "      <td>0.5</td>\n",
       "      <td>0.00</td>\n",
       "      <td>0.3</td>\n",
       "      <td>8.53</td>\n",
       "      <td>8.20</td>\n",
       "      <td>222.00</td>\n",
       "    </tr>\n",
       "    <tr>\n",
       "      <th>2354259</th>\n",
       "      <td>22.5</td>\n",
       "      <td>0.0</td>\n",
       "      <td>0.5</td>\n",
       "      <td>0.00</td>\n",
       "      <td>0.3</td>\n",
       "      <td>3.97</td>\n",
       "      <td>3.70</td>\n",
       "      <td>255.00</td>\n",
       "    </tr>\n",
       "    <tr>\n",
       "      <th>12208899</th>\n",
       "      <td>52.0</td>\n",
       "      <td>0.0</td>\n",
       "      <td>0.5</td>\n",
       "      <td>0.00</td>\n",
       "      <td>0.3</td>\n",
       "      <td>8.53</td>\n",
       "      <td>8.20</td>\n",
       "      <td>265.00</td>\n",
       "    </tr>\n",
       "  </tbody>\n",
       "</table>\n",
       "</div>"
      ],
      "text/plain": [
       "          fare_amount  extra  mta_tax  tolls_amount  improvement_surcharge  \\\n",
       "11366086         12.5    0.0      0.5          0.00                    0.3   \n",
       "13042138         10.5    0.0      0.5          0.00                    0.3   \n",
       "6186775         133.0    0.0      0.0         16.50                    0.3   \n",
       "9152465          59.0    0.0      0.5          5.76                    0.3   \n",
       "737201           13.5    0.0      0.5          0.00                    0.3   \n",
       "7425135          52.0    0.0      0.5         12.50                    0.3   \n",
       "15400213         52.0    0.0      0.5          0.00                    0.3   \n",
       "2354259          22.5    0.0      0.5          0.00                    0.3   \n",
       "12208899         52.0    0.0      0.5          0.00                    0.3   \n",
       "\n",
       "          y_pred  y_pred_rounded   y_val  \n",
       "11366086    2.42            2.70  222.22  \n",
       "13042138    2.11            1.70  257.72  \n",
       "6186775    25.35           25.20  250.00  \n",
       "9152465    11.22           11.44  300.00  \n",
       "737201      2.58            2.70  250.00  \n",
       "7425135    12.03           11.70  226.76  \n",
       "15400213    8.53            8.20  222.00  \n",
       "2354259     3.97            3.70  255.00  \n",
       "12208899    8.53            8.20  265.00  "
      ]
     },
     "execution_count": 32,
     "metadata": {},
     "output_type": "execute_result"
    }
   ],
   "source": [
    "out[abs(out['y_val']-out['y_pred'])>200]"
   ]
  },
  {
   "cell_type": "code",
   "execution_count": 33,
   "metadata": {},
   "outputs": [
    {
     "data": {
      "text/plain": [
       "0"
      ]
     },
     "execution_count": 33,
     "metadata": {},
     "output_type": "execute_result"
    }
   ],
   "source": [
    "# Let's use our test data we saced in the beginning of the notebook and check our model:\n",
    "df_test = pd.read_csv('./tmp/test.csv')\n",
    "X_test = df_test[['fare_amount', 'extra', 'mta_tax', 'tolls_amount', 'improvement_surcharge']]\n",
    "y_test = df_test['tip_amount']\n",
    "del df_test\n",
    "gc.collect()"
   ]
  },
  {
   "cell_type": "code",
   "execution_count": 34,
   "metadata": {},
   "outputs": [
    {
     "name": "stdout",
     "output_type": "stream",
     "text": [
      "RMSE: 1.8915373163866176\n",
      "MAE: 0.7754614039932386\n",
      "max error: 447.94\n"
     ]
    }
   ],
   "source": [
    "# Predicted tip\n",
    "y_pred_test = lr.predict(X_test).round(2)\n",
    "print(f'RMSE: {math.sqrt(mean_squared_error(y_test, y_pred_test))}')\n",
    "print(f'MAE: {mean_absolute_error(y_test, y_pred_test)}')\n",
    "print(f'max error: {max_error(y_test, y_pred_test)}')"
   ]
  },
  {
   "cell_type": "code",
   "execution_count": 35,
   "metadata": {},
   "outputs": [
    {
     "name": "stdout",
     "output_type": "stream",
     "text": [
      "RMSE: 1.914827147285085\n",
      "MAE: 0.8449968253232376\n",
      "max error: 447.8\n"
     ]
    }
   ],
   "source": [
    "#Predicted tip with rounding\n",
    "pred_rounded = rounded_tip(X_test, y_pred_test)\n",
    "print(f'RMSE: {math.sqrt(mean_squared_error(y_test, pred_rounded))}')\n",
    "print(f'MAE: {mean_absolute_error(y_test, pred_rounded)}')\n",
    "print(f'max error: {max_error(y_test, pred_rounded)}')"
   ]
  },
  {
   "cell_type": "markdown",
   "metadata": {},
   "source": [
    "#### Summary\n",
    "\n",
    "In this notebook first I carried out a few data processing steps to create new features and deal with missing values. Then I created a baseline model using linear regression. The next step was creating a random forest model, using a subsample of the data to make it faster. This model however did not improve our results. Therefore I decided that the simpler model is suitable for our purposes."
   ]
  },
  {
   "cell_type": "markdown",
   "metadata": {},
   "source": [
    "## API for the model"
   ]
  },
  {
   "cell_type": "markdown",
   "metadata": {},
   "source": [
    "Since the model is quite light weight, and there's no need for costly preprocessing, a very simple app can be created to serve a tip recommendation for each trip. \n",
    "\n",
    "For example we could create a simple Flask app. The details of the trip arrive with the request. Next, a function can calculate the total cost of the trip (if not included in the input data), another function can do the prediction and then calculate the predicted tip amount, with can be served as the response of the API. \n",
    "\n",
    "The Flask app can be deployed for example using Google App Engine."
   ]
  }
 ],
 "metadata": {
  "kernelspec": {
   "display_name": "Python 3",
   "language": "python",
   "name": "python3"
  },
  "language_info": {
   "codemirror_mode": {
    "name": "ipython",
    "version": 3
   },
   "file_extension": ".py",
   "mimetype": "text/x-python",
   "name": "python",
   "nbconvert_exporter": "python",
   "pygments_lexer": "ipython3",
   "version": "3.6.9"
  }
 },
 "nbformat": 4,
 "nbformat_minor": 4
}
